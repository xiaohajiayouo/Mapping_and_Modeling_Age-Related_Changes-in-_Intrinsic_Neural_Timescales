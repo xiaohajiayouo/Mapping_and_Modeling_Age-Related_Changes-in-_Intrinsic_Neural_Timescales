{
 "cells": [
  {
   "cell_type": "code",
   "execution_count": 8,
   "id": "96e605a4-a454-48f7-84b2-981bbf136569",
   "metadata": {
    "tags": []
   },
   "outputs": [],
   "source": [
    "import matplotlib.pyplot as plt\n",
    "import numpy as np\n",
    "import pandas as pd\n",
    "from numba import jit\n",
    "from numba import cuda\n",
    "import numba\n",
    "import time\n",
    "import multiprocessing as mp\n",
    "import matplotlib.font_manager as font_manager\n",
    "import sys\n",
    "from tqdm import tqdm\n",
    "import scipy.io as scio"
   ]
  },
  {
   "cell_type": "code",
   "execution_count": 3,
   "id": "39da64dd-1af6-4505-9421-12754d5e6b6b",
   "metadata": {},
   "outputs": [
    {
     "ename": "SyntaxError",
     "evalue": "expected ':' (1502211893.py, line 24)",
     "output_type": "error",
     "traceback": [
      "\u001b[1;36m  Cell \u001b[1;32mIn[3], line 24\u001b[1;36m\u001b[0m\n\u001b[1;33m    def generated_normal_conn_ration(int_y = 1.1364, int_e = 0.8263, y_int_mu = 1, sd = 0.1)\u001b[0m\n\u001b[1;37m                                                                                            ^\u001b[0m\n\u001b[1;31mSyntaxError\u001b[0m\u001b[1;31m:\u001b[0m expected ':'\n"
     ]
    }
   ],
   "source": [
    "def generated_noraml_node_removing_ratio(gmv_y = 717.402647, gmv_e = 602.625714, y_mu = 0.001, sd = 0.003):\n",
    "    gmv_diff = (gmv_y - gmv_e)/gmv_y\n",
    "    node_removed_limit = 0.00495\n",
    "    y_mu = y_mu\n",
    "    e_mu =  y_mu*(1-gmv_diff)\n",
    "    sd = sd\n",
    "    trails = 30\n",
    "    y_removed_ratio = []\n",
    "    e_removed_ratio = []\n",
    "    y, e = 1,1\n",
    "    # print(np.random.normal(y_mu, sigma, 15))\n",
    "    for i in range(trails):\n",
    "      # print(np.random.normal(y_mu, sigma, 1))\n",
    "      while y > node_removed_limit or y in y_removed_ratio or y<0 :\n",
    "        y = np.random.normal(y_mu, sd, 1)[0]\n",
    "#         print(y)\n",
    "      while e > node_removed_limit or e in e_removed_ratio or e<0 :\n",
    "        e = np.random.normal(e_mu, sd, 1)[0]\n",
    "#       print(y, e)\n",
    "      y_removed_ratio.append(y)\n",
    "      e_removed_ratio.append(e)\n",
    "    return y_removed_ratio,e_removed_ratio\n",
    "\n",
    "def generated_normal_conn_ration(int_y = 1.1364, int_e = 0.8263, y_int_mu = 1, sd = 0.1)\n",
    "\n",
    "    int_diff = (int_y-int_e)/int_y\n",
    "    y_int_mu = y_int_mu\n",
    "    e_int_mu =  y_int_mu*(1-int_diff)\n",
    "    sd = sd\n",
    "    trails = 30\n",
    "    y_conn_difference = []\n",
    "    e_conn_difference = []\n",
    "    yint, eint = 10,10\n",
    "    for i in range(trails):\n",
    "      # print(np.random.normal(y_mu, sigma, 1))\n",
    "      while yint > 1 or yint in y_conn_difference or yint < 0.6 :\n",
    "        yint = np.random.normal(y_int_mu, sigma, 1)[0]\n",
    "      while eint > 1 or eint in e_conn_difference or eint < 0.6 :\n",
    "        eint = np.random.normal(e_int_mu, sigma, 1)[0]\n",
    "      print(yint, eint)\n",
    "      y_conn_difference.append(yint)\n",
    "      e_conn_difference.append(eint)\n",
    "    return y_conn_difference,e_conn_difference"
   ]
  },
  {
   "cell_type": "code",
   "execution_count": 23,
   "id": "3386ec39-3063-4d93-b904-c05be7269eb4",
   "metadata": {
    "tags": []
   },
   "outputs": [],
   "source": [
    "y_mu = 0.001\n",
    "sd = 0.003\n",
    "gmv_y = 717.402647\n",
    "gmv_e = 502.625714\n",
    "gmv_diff = (gmv_y - gmv_e)/gmv_y\n",
    "e_mu =  y_mu*(1-gmv_diff)\n"
   ]
  },
  {
   "cell_type": "code",
   "execution_count": 92,
   "id": "84629ea2-b724-44c8-b6b6-cf1de7f6e591",
   "metadata": {
    "tags": []
   },
   "outputs": [
    {
     "data": {
      "text/plain": [
       "0.29938129430960964"
      ]
     },
     "execution_count": 92,
     "metadata": {},
     "output_type": "execute_result"
    }
   ],
   "source": [
    "gmv_diff"
   ]
  },
  {
   "cell_type": "code",
   "execution_count": 89,
   "id": "ea06797e-4063-47c8-bc6c-42a264efa6e5",
   "metadata": {
    "tags": []
   },
   "outputs": [
    {
     "data": {
      "image/png": "[encoded data removed]",
      "text/plain": [
       "<Figure size 500x400 with 1 Axes>"
      ]
     },
     "metadata": {},
     "output_type": "display_data"
    }
   ],
   "source": [
    "y_xs= np.linspace(0,0.004,400)\n",
    "# print(xs)\n",
    "y_ys= 1/(sd * np.sqrt(2 * np.pi)) *\\\n",
    "               np.exp( - (y_xs - y_mu)**2 / (2 * y_mu**2))\n",
    "\n",
    "e_xs= np.linspace(0,0.004,400)\n",
    "# print(xs)\n",
    "e_ys= 1/(sd * np.sqrt(2 * np.pi)) *\\\n",
    "               np.exp( - (e_xs - e_mu)**2 / (2 * e_mu**2))\n",
    "# print(ys)\n",
    "fig, ax = plt.subplots(figsize=(5, 4))\n",
    "ax.plot(y_xs, y_ys, label = 'Young',  linestyle='-', color = 'blue', linewidth= 4)\n",
    "ax.plot(e_xs, e_ys, label = 'Elderly',linestyle='-', color = 'red', linewidth = 4)\n",
    "# plt.title(\"Smooth Spline Curve\")\n",
    "# plt.xlabel(\"Node Remove\",fontname = 'Arial', fontsize= 18)\n",
    "# plt.ylabel(\"# of Node Remove\",fontname = 'Arial',fontsize=18)\n",
    "# plt.axis('off')\n",
    "# plt.xticks(fontsize= 14)\n",
    "# plt.yticks(fontsize= 14)\n",
    "plt.gca().set_xticks([])\n",
    "plt.xticks([])\n",
    "plt.yticks([])\n",
    "ax.set_xticks([])\n",
    "ax.set_yticks([])\n",
    "bwith = 4\n",
    "ax.spines['right'].set_visible(False)\n",
    "ax.spines['top'].set_visible(False)\n",
    "ax.spines['bottom'].set_linewidth(bwith)\n",
    "ax.spines['left'].set_linewidth(bwith)\n",
    "font_prop = font_manager.FontProperties(size = 14, family = 'Arial')\n",
    "# plt.legend(prop = font_prop)\n",
    "# plt.grid()\n",
    "plt.savefig(\"noraml_node_diff2.png\", bbox_inches='tight', pad_inches= 0, dpi = 500)\n",
    "plt.show()"
   ]
  },
  {
   "cell_type": "code",
   "execution_count": 5,
   "id": "a324d0b1-aab8-4c6e-b0c5-902166c4d29d",
   "metadata": {
    "tags": []
   },
   "outputs": [],
   "source": [
    "def generated_normal_conn_ration(int_y = 1.1364, int_e = 0.8263, y_int_mu = 1, sd = 0.1):\n",
    "\n",
    "    int_diff = (int_y-int_e)/int_y\n",
    "    y_int_mu = y_int_mu\n",
    "    e_int_mu =  y_int_mu*(1-int_diff)\n",
    "    sd = sd\n",
    "    trails = 30\n",
    "    y_conn_difference = []\n",
    "    e_conn_difference = []\n",
    "    yint, eint = 10,10\n",
    "    for i in range(trails):\n",
    "      # print(np.random.normal(y_mu, sigma, 1))\n",
    "      while yint > 1 or yint in y_conn_difference or yint < 0.6 :\n",
    "        yint = np.random.normal(y_int_mu, sd, 1)[0]\n",
    "      while eint > 1 or eint in e_conn_difference or eint < 0.6 :\n",
    "        eint = np.random.normal(e_int_mu, sd, 1)[0]\n",
    "      print(yint, eint)\n",
    "      y_conn_difference.append(yint)\n",
    "      e_conn_difference.append(eint)\n",
    "    return y_conn_difference,e_conn_difference"
   ]
  },
  {
   "cell_type": "code",
   "execution_count": 6,
   "id": "b4bd9b03-5c12-450e-80c1-95e5a6c84bc4",
   "metadata": {
    "tags": []
   },
   "outputs": [
    {
     "name": "stdout",
     "output_type": "stream",
     "text": [
      "0.8220313256488629 0.6729839483799094\n",
      "0.9778137326232534 0.7112323740000829\n",
      "0.9477493127470795 0.6540224833408818\n",
      "0.7701712217478163 0.8112694440395563\n",
      "0.9045967943158739 0.699759567383471\n",
      "0.9561136781356717 0.8222981531965972\n",
      "0.6730848689141848 0.6844219494353705\n",
      "0.981497004112229 0.8439267161629849\n",
      "0.8923282843237125 0.6478169782617698\n",
      "0.8949975818702854 0.851717417192171\n",
      "0.9354119779579952 0.798361506654015\n",
      "0.9684038559733026 0.8615400864187777\n",
      "0.9080161025599867 0.7723999468498384\n",
      "0.7611198460835669 0.8139244966264706\n",
      "0.8705420312651976 0.6338623358014319\n",
      "0.9305004287575993 0.8070616426468594\n",
      "0.9363279932464056 0.7403970898094142\n",
      "0.9730728087607708 0.9705601353855452\n",
      "0.9557453228362864 0.6837154819852321\n",
      "0.9763191588087378 0.7395503170819735\n",
      "0.8182454212056789 0.8029904266935238\n",
      "0.9469881610279012 0.7058048061622857\n",
      "0.9390119443510457 0.742164083392802\n",
      "0.9341051241935213 0.8023631801440375\n",
      "0.9566496691320256 0.7598044851561512\n",
      "0.9662466665538617 0.8648241124134033\n",
      "0.8417714752863306 0.7956219091048742\n",
      "0.9115731502555277 0.742829873560594\n",
      "0.9186966044801805 0.7316132907242342\n",
      "0.7827519912421568 0.8095927463800722\n"
     ]
    }
   ],
   "source": [
    "y_conn_difference,e_conn_difference = generated_normal_conn_ration()"
   ]
  },
  {
   "cell_type": "code",
   "execution_count": 10,
   "id": "0b80ac39-01fa-49f8-9894-2b38f0e3b1fa",
   "metadata": {
    "tags": []
   },
   "outputs": [
    {
     "name": "stdout",
     "output_type": "stream",
     "text": [
      "[0.8220313256488629, 0.9778137326232534, 0.9477493127470795, 0.7701712217478163, 0.9045967943158739, 0.9561136781356717, 0.6730848689141848, 0.981497004112229, 0.8923282843237125, 0.8949975818702854, 0.9354119779579952, 0.9684038559733026, 0.9080161025599867, 0.7611198460835669, 0.8705420312651976, 0.9305004287575993, 0.9363279932464056, 0.9730728087607708, 0.9557453228362864, 0.9763191588087378, 0.8182454212056789, 0.9469881610279012, 0.9390119443510457, 0.9341051241935213, 0.9566496691320256, 0.9662466665538617, 0.8417714752863306, 0.9115731502555277, 0.9186966044801805, 0.7827519912421568]\n",
      "[0.6729839483799094, 0.7112323740000829, 0.6540224833408818, 0.8112694440395563, 0.699759567383471, 0.8222981531965972, 0.6844219494353705, 0.8439267161629849, 0.6478169782617698, 0.851717417192171, 0.798361506654015, 0.8615400864187777, 0.7723999468498384, 0.8139244966264706, 0.6338623358014319, 0.8070616426468594, 0.7403970898094142, 0.9705601353855452, 0.6837154819852321, 0.7395503170819735, 0.8029904266935238, 0.7058048061622857, 0.742164083392802, 0.8023631801440375, 0.7598044851561512, 0.8648241124134033, 0.7956219091048742, 0.742829873560594, 0.7316132907242342, 0.8095927463800722]\n"
     ]
    }
   ],
   "source": [
    "print(y_conn_difference)\n",
    "print(e_conn_difference)\n",
    "Subj = ['Young']*30+['Elderly']*30\n",
    "int_difference = y_conn_difference + e_conn_difference\n",
    "# int_leftconn = [1000000-int(i) for i in np.array(y_conn_difference + e_conn_difference)*1000000]\n",
    "int_diff_dict = {}\n",
    "int_diff_dict['Group'] = Subj\n",
    "int_diff_dict['int_sigma_diff'] = int_difference\n",
    "int_diff_dict['Connections'] = [int(i*1000000) for i in int_difference]\n",
    "int_diff_df = pd.DataFrame(int_diff_dict)\n",
    "int_diff_df.to_csv('int_diff_df.csv')"
   ]
  },
  {
   "cell_type": "code",
   "execution_count": 60,
   "id": "5446b687-9851-4f8f-9b36-624811f6920b",
   "metadata": {
    "tags": []
   },
   "outputs": [],
   "source": [
    "int_y = 1.1364\n",
    "int_e = 0.8263\n",
    "y_int_mu = 1\n",
    "sd = 0.1\n",
    "int_diff = (int_y-int_e)/int_y\n",
    "e_int_mu =  y_int_mu*(1-int_diff)"
   ]
  },
  {
   "cell_type": "code",
   "execution_count": 91,
   "id": "c3745515-db7c-4418-8247-05715c486f19",
   "metadata": {
    "tags": []
   },
   "outputs": [
    {
     "data": {
      "text/plain": [
       "0.27287926786342837"
      ]
     },
     "execution_count": 91,
     "metadata": {},
     "output_type": "execute_result"
    }
   ],
   "source": [
    "int_diff"
   ]
  },
  {
   "cell_type": "code",
   "execution_count": 90,
   "id": "80a42d63-29c4-4380-9a13-f8ce36ac39cd",
   "metadata": {},
   "outputs": [
    {
     "data": {
      "image/png": "[encoded data removed]",
      "text/plain": [
       "<Figure size 500x400 with 1 Axes>"
      ]
     },
     "metadata": {},
     "output_type": "display_data"
    }
   ],
   "source": [
    "\n",
    "y_xs2= np.linspace(0,2.8,400)\n",
    "# print(xs)\n",
    "y_ys2= 1/(sd * np.sqrt(2 * np.pi)) *\\\n",
    "               np.exp( - (y_xs2 - y_int_mu)**2 / (2 * y_int_mu**2))\n",
    "\n",
    "e_xs2= np.linspace(0,2.8,400)\n",
    "# print(xs)\n",
    "e_ys2= 1/(sd * np.sqrt(2 * np.pi)) *\\\n",
    "               np.exp( - (e_xs2 - e_int_mu)**2 / (2 * e_int_mu**2))\n",
    "# print(ys)\n",
    "fig, ax = plt.subplots(figsize=(5, 4))\n",
    "ax.plot(y_xs2, y_ys2, label = 'Young',  linestyle='-', color = 'blue', linewidth= 4)\n",
    "ax.plot(e_xs2, e_ys2, label = 'Elderly',linestyle='-', color = 'red', linewidth = 4)\n",
    "# plt.title(\"Smooth Spline Curve\")\n",
    "# plt.xlabel(\"Node difference\")\n",
    "# plt.ylabel(\"Y\")\n",
    "\n",
    "ax.spines['right'].set_visible(False)\n",
    "ax.spines['top'].set_visible(False)\n",
    "ax.spines['bottom'].set_linewidth(bwith)\n",
    "ax.spines['left'].set_linewidth(bwith)\n",
    "font_prop = font_manager.FontProperties(size = 14, family = 'Arial')\n",
    "# plt.legend(prop = font_prop)\n",
    "# plt.grid()\n",
    "plt.gca().set_xticks([])\n",
    "plt.xticks([])\n",
    "plt.yticks([])\n",
    "ax.set_xticks([])\n",
    "ax.set_yticks([])\n",
    "\n",
    "plt.savefig(\"noraml_conn_diff2.png\",bbox_inches='tight', pad_inches=0, dpi=300)\n",
    "# plt.show()"
   ]
  },
  {
   "cell_type": "code",
   "execution_count": 15,
   "id": "163ed197-06f4-49b5-ac96-efdb611df1c9",
   "metadata": {
    "tags": []
   },
   "outputs": [
    {
     "data": {
      "text/plain": [
       "11.510923462299555"
      ]
     },
     "execution_count": 15,
     "metadata": {},
     "output_type": "execute_result"
    }
   ],
   "source": []
  }
 ],
 "metadata": {
  "kernelspec": {
   "display_name": "Python 3 (ipykernel)",
   "language": "python",
   "name": "python3"
  },
  "language_info": {
   "codemirror_mode": {
    "name": "ipython",
    "version": 3
   },
   "file_extension": ".py",
   "mimetype": "text/x-python",
   "name": "python",
   "nbconvert_exporter": "python",
   "pygments_lexer": "ipython3",
   "version": "3.7.16"
  }
 },
 "nbformat": 4,
 "nbformat_minor": 5
}
